{
  "cells": [
    {
      "attachments": {},
      "cell_type": "markdown",
      "metadata": {
        "id": "gdxNObHQGo2k"
      },
      "source": [
        "### [LinkedIn](https://www.linkedin.com/in/diego-fernando-bello-lopez-157147269/)\n",
        "\n",
        "### Certificados\n",
        "* [IBM DA0101EN](https://courses.cognitiveclass.ai/certificates/d72ca501f7004dd88ac77098af75c1c2)\n",
        "* [IBM DV0101EN](https://courses.cognitiveclass.ai/certificates/7f225681ef624737888ded510b8f5c43)\n",
        "* [IBM PY0101EN](https://courses.cognitiveclass.ai/certificates/6677a1c775e44794b39fcdd51bc2e170)"
      ]
    }
  ],
  "metadata": {
    "colab": {
      "authorship_tag": "ABX9TyMM+lEUUfT8cBwHyu2efNB6",
      "provenance": []
    },
    "kernelspec": {
      "display_name": "Python 3",
      "name": "python3"
    },
    "language_info": {
      "name": "python"
    }
  },
  "nbformat": 4,
  "nbformat_minor": 0
}
