{
  "nbformat": 4,
  "nbformat_minor": 0,
  "metadata": {
    "colab": {
      "provenance": []
    },
    "kernelspec": {
      "name": "python3",
      "display_name": "Python 3"
    }
  },
  "cells": [
    {
      "cell_type": "code",
      "metadata": {
        "id": "875DsJCur8zB",
        "colab": {
          "base_uri": "https://localhost:8080/"
        },
        "outputId": "e751886e-7a28-48f3-be5c-f78c6fa53fd6"
      },
      "source": [
        "!python --version\n",
        "import numpy as np\n",
        "\n",
        "print('NumPy', np.__version__)"
      ],
      "execution_count": 1,
      "outputs": [
        {
          "output_type": "stream",
          "name": "stdout",
          "text": [
            "Python 3.8.10\n",
            "NumPy 1.22.4\n"
          ]
        }
      ]
    },
    {
      "cell_type": "markdown",
      "source": [
        "**Solution**"
      ],
      "metadata": {
        "id": "BX8ejJrpQdgb"
      }
    },
    {
      "cell_type": "code",
      "source": [
        "#Do not change this function's name, parameters or output format. It will be used in automatic grading.\n",
        "def FizzBuzz(x):\n",
        "  answer =\"...\"\n",
        "  if x % 3 == 0:\n",
        "    if x % 5 == 0:\n",
        "      answer = \"FizzBuzz!\"\n",
        "    else:\n",
        "      answer = \"Fizz!\"\n",
        "  elif x % 5 == 0:\n",
        "    answer = \"Buzz!\"    \n",
        "    \n",
        "  \n",
        "  return answer\n"
      ],
      "metadata": {
        "id": "4kkesp9PQisR"
      },
      "execution_count": 2,
      "outputs": []
    },
    {
      "cell_type": "markdown",
      "source": [
        "**Solution**"
      ],
      "metadata": {
        "id": "O-OLGB5BZIQq"
      }
    },
    {
      "cell_type": "code",
      "source": [
        "#Do not change this function's name, parameters or output format. It will be used in automatic grading.\n",
        "def FizzBuzzList(n):\n",
        "    ans = [FizzBuzz(i+1) for i in range(n)]\n",
        "    return ans"
      ],
      "metadata": {
        "id": "dIYchJvEZMEJ"
      },
      "execution_count": 4,
      "outputs": []
    },
    {
      "cell_type": "code",
      "source": [
        "import numpy as np\n",
        "\n",
        "X = np.array([1.2,3.2,4.3,5.6])\n",
        "print(X.mean())\n",
        "print(X.std())"
      ],
      "metadata": {
        "colab": {
          "base_uri": "https://localhost:8080/"
        },
        "id": "PZnHitR4lrMh",
        "outputId": "45bfa2b0-f873-46ee-91a0-66a979c971f8"
      },
      "execution_count": null,
      "outputs": [
        {
          "output_type": "stream",
          "name": "stdout",
          "text": [
            "3.5749999999999997\n",
            "1.6130328576938535\n"
          ]
        }
      ]
    },
    {
      "cell_type": "markdown",
      "source": [
        "**Solution**"
      ],
      "metadata": {
        "id": "frfaDDj0k7tJ"
      }
    },
    {
      "cell_type": "code",
      "source": [
        "#Do not change this function's name, parameters or output format. It will be used in automatic grading.\n",
        "\n",
        "import numpy as np\n",
        "\n",
        "def standarize(X):\n",
        "  X_standarized = (X - np.mean(X))/np.std(X) \n",
        "  return X_standarized"
      ],
      "metadata": {
        "id": "vUf0_xqXgHSj"
      },
      "execution_count": 3,
      "outputs": []
    },
    {
      "cell_type": "code",
      "source": [
        "#Do not change this function's name, parameters or output format. It will be used in automatic grading.\n",
        "\n",
        "import numpy as np\n",
        "\n",
        "def main_diagonal_matrix(A):\n",
        "  D = np.diag(np.diag(A.astype(float)))\n",
        "  return D"
      ],
      "metadata": {
        "id": "thogtwflo6-x"
      },
      "execution_count": 5,
      "outputs": []
    }
  ]
}